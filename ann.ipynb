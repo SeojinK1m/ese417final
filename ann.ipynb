{
 "cells": [
  {
   "cell_type": "code",
   "execution_count": 2,
   "metadata": {},
   "outputs": [
    {
     "name": "stdout",
     "output_type": "stream",
     "text": [
      "[['7.4' '0.7' '0' ... '3.51' '0.56' '9.4']\n",
      " ['7.8' '0.88' '0' ... '3.2' '0.68' '9.8']\n",
      " ['7.8' '0.76' '0.04' ... '3.26' '0.65' '9.8']\n",
      " ...\n",
      " ['6.3' '0.51' '0.13' ... '3.42' '0.75' '11']\n",
      " ['5.9' '0.645' '0.12' ... '3.57' '0.71' '10.2']\n",
      " ['6' '0.31' '0.47' ... '3.39' '0.66' '11']]\n",
      "['5' '5' '5' ... '6' '5' '6']\n"
     ]
    }
   ],
   "source": [
    "from helpers import loadData\n",
    "from sklearn.datasets import make_classification\n",
    "\n",
    "X, Y = loadData('winequality-red-1.csv')\n",
    "x, y = make_classification(n_samples=100, random_state=1)\n",
    "\n",
    "print(X)\n",
    "print(Y)"
   ]
  }
 ],
 "metadata": {
  "kernelspec": {
   "display_name": "Python 3.9.12 64-bit",
   "name": "python3912jvsc74a57bd0aee8b7b246df8f9039afb4144a1f6fd8d2ca17a180786b69acc140d282b71a49"
  },
  "language_info": {
   "codemirror_mode": {
    "name": "ipython",
    "version": 3
   },
   "file_extension": ".py",
   "mimetype": "text/x-python",
   "name": "python",
   "nbconvert_exporter": "python",
   "pygments_lexer": "ipython3",
   "version": "3.9.12"
  },
  "metadata": {
   "interpreter": {
    "hash": "aee8b7b246df8f9039afb4144a1f6fd8d2ca17a180786b69acc140d282b71a49"
   }
  },
  "orig_nbformat": 2
 },
 "nbformat": 4,
 "nbformat_minor": 2
}