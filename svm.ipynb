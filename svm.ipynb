{
 "cells": [
  {
   "cell_type": "code",
   "execution_count": 4,
   "id": "d41c2fbb",
   "metadata": {},
   "outputs": [],
   "source": [
    "from helpers import loadData\n",
    "from sklearn.neural_network import MLPClassifier\n",
    "from sklearn.model_selection import train_test_split\n",
    "from sklearn.preprocessing import StandardScaler\n",
    "\n",
    "\n",
    "X, Y = loadData('winequality-red-1.csv')\n",
    "X_train, X_test, Y_train, Y_test = train_test_split(X, Y, random_state=42)\n",
    "#Scale data\n",
    "scaledData = StandardScaler()\n",
    "X_train = scaledData.fit_transform(X_train)\n",
    "X_test = scaledData.transform(X_test)"
   ]
  },
  {
   "cell_type": "code",
   "execution_count": 18,
   "id": "29f90648",
   "metadata": {},
   "outputs": [
    {
     "name": "stdout",
     "output_type": "stream",
     "text": [
      "{'C': 30, 'kernel': 'rbf'}\n"
     ]
    }
   ],
   "source": [
    "from sklearn.svm import SVC\n",
    "from sklearn.model_selection import GridSearchCV\n",
    "\n",
    "#Use GridSearchCV to test paramaters and find the best combo of hyperperameters\n",
    "\n",
    "wine_SVM = SVC()\n",
    "param_grid_svm = {\n",
    "    'kernel': ['rbf','sigmoid','poly'], \n",
    "    'C': [1, 10, 20, 30, 40, 50, 75, 100, 500]\n",
    "}\n",
    "\n",
    "CV_svm = GridSearchCV(estimator=wine_SVM, param_grid=param_grid_svm) #automatically does 5 fold CV\n",
    "CV_svm.fit(X_train, Y_train)\n",
    "\n",
    "#print the result of best hyperparameters\n",
    "print(CV_svm.best_params_)"
   ]
  },
  {
   "cell_type": "code",
   "execution_count": 20,
   "id": "29e7e4d5",
   "metadata": {},
   "outputs": [
    {
     "name": "stdout",
     "output_type": "stream",
     "text": [
      "Accuracy: 0.6\n",
      "Classification report:\n",
      "              precision    recall  f1-score   support\n",
      "\n",
      "           3       0.00      0.00      0.00         2\n",
      "           4       0.31      0.44      0.36         9\n",
      "           5       0.73      0.63      0.68       188\n",
      "           6       0.54      0.61      0.58       150\n",
      "           7       0.52      0.50      0.51        50\n",
      "           8       0.00      0.00      0.00         1\n",
      "\n",
      "    accuracy                           0.60       400\n",
      "   macro avg       0.35      0.37      0.35       400\n",
      "weighted avg       0.62      0.60      0.61       400\n",
      "\n"
     ]
    },
    {
     "ename": "NameError",
     "evalue": "name 'y_test' is not defined",
     "output_type": "error",
     "traceback": [
      "\u001b[0;31m---------------------------------------------------------------------------\u001b[0m",
      "\u001b[0;31mNameError\u001b[0m                                 Traceback (most recent call last)",
      "\u001b[0;32m/var/folders/xx/s403qxvd0cb2yx_x532w67c40000gn/T/ipykernel_4323/3325135196.py\u001b[0m in \u001b[0;36m<module>\u001b[0;34m\u001b[0m\n\u001b[1;32m     13\u001b[0m \u001b[0mprint\u001b[0m\u001b[0;34m(\u001b[0m\u001b[0mclas\u001b[0m\u001b[0;34m)\u001b[0m\u001b[0;34m\u001b[0m\u001b[0;34m\u001b[0m\u001b[0m\n\u001b[1;32m     14\u001b[0m \u001b[0;34m\u001b[0m\u001b[0m\n\u001b[0;32m---> 15\u001b[0;31m \u001b[0mplot_confusion_matrix\u001b[0m\u001b[0;34m(\u001b[0m\u001b[0mCV_svm\u001b[0m\u001b[0;34m,\u001b[0m\u001b[0mX_test\u001b[0m\u001b[0;34m,\u001b[0m \u001b[0my_test\u001b[0m\u001b[0;34m,\u001b[0m\u001b[0mvalues_format\u001b[0m\u001b[0;34m=\u001b[0m\u001b[0;34m'd'\u001b[0m \u001b[0;34m)\u001b[0m\u001b[0;34m\u001b[0m\u001b[0;34m\u001b[0m\u001b[0m\n\u001b[0m",
      "\u001b[0;31mNameError\u001b[0m: name 'y_test' is not defined"
     ]
    }
   ],
   "source": [
    "from sklearn.metrics import classification_report\n",
    "from sklearn.metrics import plot_confusion_matrix\n",
    "\n",
    "#Use the determined hyperperameters to create a final model\n",
    "wineSVM_final = SVC(kernel = 'rbf', C = 30)\n",
    "wineSVM_final.fit(X_train, Y_train)\n",
    "y_pred = wineSVM_final.predict(X_test)\n",
    "\n",
    "print(\"Accuracy: \" + str(wineSVM_final.score(X_test,Y_test)))\n",
    "\n",
    "clas = classification_report(y_pred, Y_test)\n",
    "print(\"Classification report:\")\n",
    "print(clas)\n",
    "\n",
    "plot_confusion_matrix(CV_svm,X_test, Y_test,values_format='d' )"
   ]
  },
  {
   "cell_type": "markdown",
   "id": "0229330a",
   "metadata": {},
   "source": [
    "# References:\n",
    "WUSTL ESE 417 Programming Sessions"
   ]
  }
 ],
 "metadata": {
  "kernelspec": {
   "display_name": "Python 3 (ipykernel)",
   "language": "python",
   "name": "python3"
  },
  "language_info": {
   "codemirror_mode": {
    "name": "ipython",
    "version": 3
   },
   "file_extension": ".py",
   "mimetype": "text/x-python",
   "name": "python",
   "nbconvert_exporter": "python",
   "pygments_lexer": "ipython3",
   "version": "3.9.7"
  }
 },
 "nbformat": 4,
 "nbformat_minor": 5
}
